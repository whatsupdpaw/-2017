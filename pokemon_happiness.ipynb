{
 "cells": [
  {
   "cell_type": "markdown",
   "metadata": {
    "collapsed": true
   },
   "source": [
    "# Вступительное задание в ЛШ2017 DATASCIENCE"
   ]
  },
  {
   "cell_type": "code",
   "execution_count": 12,
   "metadata": {
    "collapsed": true
   },
   "outputs": [],
   "source": [
    "import pandas as pd\n",
    "import numpy as np\n",
    "from pandas import read_csv, DataFrame, Series\n",
    "from pandas import read_csv as read\n",
    "import matplotlib.pyplot as plt\n",
    "import brewer2mpl"
   ]
  },
  {
   "cell_type": "code",
   "execution_count": 2,
   "metadata": {},
   "outputs": [
    {
     "data": {
      "text/html": [
       "<div>\n",
       "<style>\n",
       "    .dataframe thead tr:only-child th {\n",
       "        text-align: right;\n",
       "    }\n",
       "\n",
       "    .dataframe thead th {\n",
       "        text-align: left;\n",
       "    }\n",
       "\n",
       "    .dataframe tbody tr th {\n",
       "        vertical-align: top;\n",
       "    }\n",
       "</style>\n",
       "<table border=\"1\" class=\"dataframe\">\n",
       "  <thead>\n",
       "    <tr style=\"text-align: right;\">\n",
       "      <th></th>\n",
       "      <th>id</th>\n",
       "      <th>identifier</th>\n",
       "      <th>name</th>\n",
       "      <th>name_phonetic</th>\n",
       "      <th>species</th>\n",
       "      <th>name_jp</th>\n",
       "      <th>name_jp_romaji</th>\n",
       "      <th>species_jp</th>\n",
       "      <th>generation_id</th>\n",
       "      <th>ndex</th>\n",
       "      <th>...</th>\n",
       "      <th>exp_yield</th>\n",
       "      <th>base_happiness</th>\n",
       "      <th>egg_group1_id</th>\n",
       "      <th>egg_group2_id</th>\n",
       "      <th>is_baby</th>\n",
       "      <th>baby_breed_item_id</th>\n",
       "      <th>hatch_counter</th>\n",
       "      <th>lvl_100_exp</th>\n",
       "      <th>pokemon_order</th>\n",
       "      <th>legacy_id</th>\n",
       "    </tr>\n",
       "  </thead>\n",
       "  <tbody>\n",
       "    <tr>\n",
       "      <th>0</th>\n",
       "      <td>1</td>\n",
       "      <td>bulbasaur</td>\n",
       "      <td>Bulbasaur</td>\n",
       "      <td>Bulbasaur</td>\n",
       "      <td>Seed</td>\n",
       "      <td>フシギダネ</td>\n",
       "      <td>Fushigidane</td>\n",
       "      <td>たね</td>\n",
       "      <td>1</td>\n",
       "      <td>1</td>\n",
       "      <td>...</td>\n",
       "      <td>64</td>\n",
       "      <td>70</td>\n",
       "      <td>1</td>\n",
       "      <td>7.0</td>\n",
       "      <td>0</td>\n",
       "      <td>NaN</td>\n",
       "      <td>20</td>\n",
       "      <td>1059860</td>\n",
       "      <td>1</td>\n",
       "      <td>1.0</td>\n",
       "    </tr>\n",
       "    <tr>\n",
       "      <th>1</th>\n",
       "      <td>2</td>\n",
       "      <td>ivysaur</td>\n",
       "      <td>Ivysaur</td>\n",
       "      <td>Ivysaur</td>\n",
       "      <td>Seed</td>\n",
       "      <td>フシギソウ</td>\n",
       "      <td>Fushigisou</td>\n",
       "      <td>たね</td>\n",
       "      <td>1</td>\n",
       "      <td>2</td>\n",
       "      <td>...</td>\n",
       "      <td>141</td>\n",
       "      <td>70</td>\n",
       "      <td>1</td>\n",
       "      <td>7.0</td>\n",
       "      <td>0</td>\n",
       "      <td>NaN</td>\n",
       "      <td>20</td>\n",
       "      <td>1059860</td>\n",
       "      <td>2</td>\n",
       "      <td>2.0</td>\n",
       "    </tr>\n",
       "    <tr>\n",
       "      <th>2</th>\n",
       "      <td>3</td>\n",
       "      <td>venusaur</td>\n",
       "      <td>Venusaur</td>\n",
       "      <td>Veenasore</td>\n",
       "      <td>Seed</td>\n",
       "      <td>フシギバナ</td>\n",
       "      <td>Fushigibana</td>\n",
       "      <td>たね</td>\n",
       "      <td>1</td>\n",
       "      <td>3</td>\n",
       "      <td>...</td>\n",
       "      <td>208</td>\n",
       "      <td>70</td>\n",
       "      <td>1</td>\n",
       "      <td>7.0</td>\n",
       "      <td>0</td>\n",
       "      <td>NaN</td>\n",
       "      <td>20</td>\n",
       "      <td>1059860</td>\n",
       "      <td>3</td>\n",
       "      <td>3.0</td>\n",
       "    </tr>\n",
       "    <tr>\n",
       "      <th>3</th>\n",
       "      <td>4</td>\n",
       "      <td>charmander</td>\n",
       "      <td>Charmander</td>\n",
       "      <td>Char-mander</td>\n",
       "      <td>Lizard</td>\n",
       "      <td>ヒトカゲ</td>\n",
       "      <td>Hitokage</td>\n",
       "      <td>とかげ</td>\n",
       "      <td>1</td>\n",
       "      <td>4</td>\n",
       "      <td>...</td>\n",
       "      <td>65</td>\n",
       "      <td>70</td>\n",
       "      <td>1</td>\n",
       "      <td>14.0</td>\n",
       "      <td>0</td>\n",
       "      <td>NaN</td>\n",
       "      <td>20</td>\n",
       "      <td>1059860</td>\n",
       "      <td>4</td>\n",
       "      <td>4.0</td>\n",
       "    </tr>\n",
       "    <tr>\n",
       "      <th>4</th>\n",
       "      <td>5</td>\n",
       "      <td>charmeleon</td>\n",
       "      <td>Charmeleon</td>\n",
       "      <td>Char-meeleon</td>\n",
       "      <td>Flame</td>\n",
       "      <td>リザード</td>\n",
       "      <td>Lizardo</td>\n",
       "      <td>かえん</td>\n",
       "      <td>1</td>\n",
       "      <td>5</td>\n",
       "      <td>...</td>\n",
       "      <td>142</td>\n",
       "      <td>70</td>\n",
       "      <td>1</td>\n",
       "      <td>14.0</td>\n",
       "      <td>0</td>\n",
       "      <td>NaN</td>\n",
       "      <td>20</td>\n",
       "      <td>1059860</td>\n",
       "      <td>5</td>\n",
       "      <td>5.0</td>\n",
       "    </tr>\n",
       "  </tbody>\n",
       "</table>\n",
       "<p>5 rows × 38 columns</p>\n",
       "</div>"
      ],
      "text/plain": [
       "   id  identifier        name name_phonetic species name_jp name_jp_romaji  \\\n",
       "0   1   bulbasaur   Bulbasaur     Bulbasaur    Seed   フシギダネ    Fushigidane   \n",
       "1   2     ivysaur     Ivysaur       Ivysaur    Seed   フシギソウ     Fushigisou   \n",
       "2   3    venusaur    Venusaur     Veenasore    Seed   フシギバナ    Fushigibana   \n",
       "3   4  charmander  Charmander   Char-mander  Lizard    ヒトカゲ       Hitokage   \n",
       "4   5  charmeleon  Charmeleon  Char-meeleon   Flame    リザード        Lizardo   \n",
       "\n",
       "  species_jp  generation_id  ndex    ...      exp_yield  base_happiness  \\\n",
       "0         たね              1     1    ...             64              70   \n",
       "1         たね              1     2    ...            141              70   \n",
       "2         たね              1     3    ...            208              70   \n",
       "3        とかげ              1     4    ...             65              70   \n",
       "4        かえん              1     5    ...            142              70   \n",
       "\n",
       "   egg_group1_id  egg_group2_id  is_baby  baby_breed_item_id  hatch_counter  \\\n",
       "0              1            7.0        0                 NaN             20   \n",
       "1              1            7.0        0                 NaN             20   \n",
       "2              1            7.0        0                 NaN             20   \n",
       "3              1           14.0        0                 NaN             20   \n",
       "4              1           14.0        0                 NaN             20   \n",
       "\n",
       "   lvl_100_exp  pokemon_order  legacy_id  \n",
       "0      1059860              1        1.0  \n",
       "1      1059860              2        2.0  \n",
       "2      1059860              3        3.0  \n",
       "3      1059860              4        4.0  \n",
       "4      1059860              5        5.0  \n",
       "\n",
       "[5 rows x 38 columns]"
      ]
     },
     "execution_count": 2,
     "metadata": {},
     "output_type": "execute_result"
    }
   ],
   "source": [
    "#достанем необходимый для задания файл и посмотрим его содержимое\n",
    "df = pd.read_csv(\"C:/Users/12345/Desktop/zadanie_2017_datascience_main/pokemon.csv\")\n",
    "df.head()"
   ]
  },
  {
   "cell_type": "code",
   "execution_count": 3,
   "metadata": {},
   "outputs": [
    {
     "data": {
      "image/png": "[encoded data removed]",
      "text/plain": [
       "<matplotlib.figure.Figure at 0x2b1db806390>"
      ]
     },
     "metadata": {},
     "output_type": "display_data"
    }
   ],
   "source": [
    "#постоим столбчатую диаграмму\n",
    "\n",
    "pd.crosstab(df.generation_id, df.base_happiness).plot(kind='bar')\n",
    "plt.show()"
   ]
  },
  {
   "cell_type": "markdown",
   "metadata": {},
   "source": [
    "Данные с такой диаграммы читать не очень удобно, разобъем данные по параметру base_happiness по поколениям покемөнов."
   ]
  },
  {
   "cell_type": "code",
   "execution_count": 4,
   "metadata": {},
   "outputs": [
    {
     "data": {
      "text/html": [
       "<div>\n",
       "<style>\n",
       "    .dataframe thead tr:only-child th {\n",
       "        text-align: right;\n",
       "    }\n",
       "\n",
       "    .dataframe thead th {\n",
       "        text-align: left;\n",
       "    }\n",
       "\n",
       "    .dataframe tbody tr th {\n",
       "        vertical-align: top;\n",
       "    }\n",
       "</style>\n",
       "<table border=\"1\" class=\"dataframe\">\n",
       "  <thead>\n",
       "    <tr style=\"text-align: right;\">\n",
       "      <th>base_happiness</th>\n",
       "      <th>0</th>\n",
       "      <th>35</th>\n",
       "      <th>70</th>\n",
       "      <th>90</th>\n",
       "      <th>100</th>\n",
       "      <th>140</th>\n",
       "    </tr>\n",
       "    <tr>\n",
       "      <th>generation_id</th>\n",
       "      <th></th>\n",
       "      <th></th>\n",
       "      <th></th>\n",
       "      <th></th>\n",
       "      <th></th>\n",
       "      <th></th>\n",
       "    </tr>\n",
       "  </thead>\n",
       "  <tbody>\n",
       "    <tr>\n",
       "      <th>1</th>\n",
       "      <td>1</td>\n",
       "      <td>6</td>\n",
       "      <td>140</td>\n",
       "      <td>0</td>\n",
       "      <td>1</td>\n",
       "      <td>3</td>\n",
       "    </tr>\n",
       "    <tr>\n",
       "      <th>2</th>\n",
       "      <td>2</td>\n",
       "      <td>12</td>\n",
       "      <td>83</td>\n",
       "      <td>0</td>\n",
       "      <td>1</td>\n",
       "      <td>2</td>\n",
       "    </tr>\n",
       "    <tr>\n",
       "      <th>3</th>\n",
       "      <td>7</td>\n",
       "      <td>25</td>\n",
       "      <td>103</td>\n",
       "      <td>2</td>\n",
       "      <td>1</td>\n",
       "      <td>0</td>\n",
       "    </tr>\n",
       "    <tr>\n",
       "      <th>4</th>\n",
       "      <td>8</td>\n",
       "      <td>8</td>\n",
       "      <td>87</td>\n",
       "      <td>0</td>\n",
       "      <td>8</td>\n",
       "      <td>5</td>\n",
       "    </tr>\n",
       "    <tr>\n",
       "      <th>5</th>\n",
       "      <td>4</td>\n",
       "      <td>15</td>\n",
       "      <td>133</td>\n",
       "      <td>3</td>\n",
       "      <td>3</td>\n",
       "      <td>0</td>\n",
       "    </tr>\n",
       "  </tbody>\n",
       "</table>\n",
       "</div>"
      ],
      "text/plain": [
       "base_happiness  0    35   70   90   100  140\n",
       "generation_id                               \n",
       "1                 1    6  140    0    1    3\n",
       "2                 2   12   83    0    1    2\n",
       "3                 7   25  103    2    1    0\n",
       "4                 8    8   87    0    8    5\n",
       "5                 4   15  133    3    3    0"
      ]
     },
     "execution_count": 4,
     "metadata": {},
     "output_type": "execute_result"
    }
   ],
   "source": [
    "#составим перекрестную таблицу между группой поколений и базовым уровнем счастья\n",
    "pd.crosstab(df.generation_id, df.base_happiness)"
   ]
  },
  {
   "cell_type": "code",
   "execution_count": 6,
   "metadata": {},
   "outputs": [
    {
     "data": {
      "image/png": "[encoded data removed]",
      "text/plain": [
       "<matplotlib.figure.Figure at 0x2b1dba2b550>"
      ]
     },
     "metadata": {},
     "output_type": "display_data"
    },
    {
     "data": {
      "image/png": "[encoded data removed]",
      "text/plain": [
       "<matplotlib.figure.Figure at 0x2b1dbb0e5c0>"
      ]
     },
     "metadata": {},
     "output_type": "display_data"
    },
    {
     "data": {
      "image/png": "[encoded data removed]",
      "text/plain": [
       "<matplotlib.figure.Figure at 0x2b1db7cce48>"
      ]
     },
     "metadata": {},
     "output_type": "display_data"
    },
    {
     "data": {
      "image/png": "[encoded data removed]",
      "text/plain": [
       "<matplotlib.figure.Figure at 0x2b1dbc39f98>"
      ]
     },
     "metadata": {},
     "output_type": "display_data"
    },
    {
     "data": {
      "image/png": "[encoded data removed]",
      "text/plain": [
       "<matplotlib.figure.Figure at 0x2b1dbcd0358>"
      ]
     },
     "metadata": {},
     "output_type": "display_data"
    }
   ],
   "source": [
    "#для более детального рассмотрения рассмотрим круговую диаграмму для каждого поколения покемонов\n",
    "for i in range(5): \n",
    "    j = i + 1\n",
    "    pd.crosstab(df.generation_id, df.base_happiness).iloc[i].plot(kind='pie')\n",
    "    plt.title(' %s generation' % j )\n",
    "    plt.show()"
   ]
  },
  {
   "cell_type": "markdown",
   "metadata": {},
   "source": [
    "Для того чтобы выяснить как распределен үровень показтеля base häppines между поколениями поҡемонов\n",
    "т.к. в каждом поколении имеется разное ҡоличество покемонов распределенное по различным уровням показателя base häppines\n",
    "введем велечину центральный уровень base häppines, для этого суммируем  ,перемноженные количества покемонов имеющих определенный уровень счастья, друг с дрүгом и дfлее поделим на общее количесто gокемонов в поколении (некий \"центр масс' счастья)."
   ]
  },
  {
   "cell_type": "code",
   "execution_count": 7,
   "metadata": {},
   "outputs": [
    {
     "data": {
      "text/html": [
       "<div>\n",
       "<style>\n",
       "    .dataframe thead tr:only-child th {\n",
       "        text-align: right;\n",
       "    }\n",
       "\n",
       "    .dataframe thead th {\n",
       "        text-align: left;\n",
       "    }\n",
       "\n",
       "    .dataframe tbody tr th {\n",
       "        vertical-align: top;\n",
       "    }\n",
       "</style>\n",
       "<table border=\"1\" class=\"dataframe\">\n",
       "  <thead>\n",
       "    <tr style=\"text-align: right;\">\n",
       "      <th>generation_id</th>\n",
       "      <th>1</th>\n",
       "      <th>2</th>\n",
       "      <th>3</th>\n",
       "      <th>4</th>\n",
       "      <th>5</th>\n",
       "    </tr>\n",
       "    <tr>\n",
       "      <th>base_happiness</th>\n",
       "      <th></th>\n",
       "      <th></th>\n",
       "      <th></th>\n",
       "      <th></th>\n",
       "      <th></th>\n",
       "    </tr>\n",
       "  </thead>\n",
       "  <tbody>\n",
       "    <tr>\n",
       "      <th>0</th>\n",
       "      <td>0</td>\n",
       "      <td>0</td>\n",
       "      <td>0</td>\n",
       "      <td>0</td>\n",
       "      <td>0</td>\n",
       "    </tr>\n",
       "    <tr>\n",
       "      <th>35</th>\n",
       "      <td>210</td>\n",
       "      <td>420</td>\n",
       "      <td>875</td>\n",
       "      <td>280</td>\n",
       "      <td>525</td>\n",
       "    </tr>\n",
       "    <tr>\n",
       "      <th>70</th>\n",
       "      <td>9800</td>\n",
       "      <td>5810</td>\n",
       "      <td>7210</td>\n",
       "      <td>6090</td>\n",
       "      <td>9310</td>\n",
       "    </tr>\n",
       "    <tr>\n",
       "      <th>90</th>\n",
       "      <td>0</td>\n",
       "      <td>0</td>\n",
       "      <td>180</td>\n",
       "      <td>0</td>\n",
       "      <td>270</td>\n",
       "    </tr>\n",
       "    <tr>\n",
       "      <th>100</th>\n",
       "      <td>100</td>\n",
       "      <td>100</td>\n",
       "      <td>100</td>\n",
       "      <td>800</td>\n",
       "      <td>300</td>\n",
       "    </tr>\n",
       "    <tr>\n",
       "      <th>140</th>\n",
       "      <td>420</td>\n",
       "      <td>280</td>\n",
       "      <td>0</td>\n",
       "      <td>700</td>\n",
       "      <td>0</td>\n",
       "    </tr>\n",
       "  </tbody>\n",
       "</table>\n",
       "</div>"
      ],
      "text/plain": [
       "generation_id      1     2     3     4     5\n",
       "base_happiness                              \n",
       "0                  0     0     0     0     0\n",
       "35               210   420   875   280   525\n",
       "70              9800  5810  7210  6090  9310\n",
       "90                 0     0   180     0   270\n",
       "100              100   100   100   800   300\n",
       "140              420   280     0   700     0"
      ]
     },
     "execution_count": 7,
     "metadata": {},
     "output_type": "execute_result"
    }
   ],
   "source": [
    " #для начла создадим таблицу, где перемножим для каждого поколения число покемонов и үровеңь их счастья\n",
    "tab = pd.crosstab(df.base_happiness , df.generation_id)\n",
    "newtab = pd.crosstab(df.base_happiness , df.generation_id)\n",
    "covtab = pd.crosstab(df.base_happiness , df.generation_id).reset_index()\n",
    "for j in range(6):\n",
    "    newtab.iloc[j] = covtab.base_happiness[j] * tab.iloc[j]\n",
    "\n",
    "newtab "
   ]
  },
  {
   "cell_type": "code",
   "execution_count": 8,
   "metadata": {},
   "outputs": [
    {
     "data": {
      "text/plain": [
       "1 generation    68.310811\n",
       "2 generation    64.591837\n",
       "3 generation    60.615942\n",
       "4 generation    64.594595\n",
       "5 generation    65.854430\n",
       "dtype: float64"
      ]
     },
     "execution_count": 8,
     "metadata": {},
     "output_type": "execute_result"
    }
   ],
   "source": [
    "#создадим вспомагательный массив и перепишем в него данные центрального значения счастья\n",
    "my_series = pd.Series([float(5), 6, 7, 8, 9], index=['1 generation', '2 generation', '3 generation',\\\n",
    "                                                      '4 generation', '5 generation'])\n",
    "for j in range(0,5):\n",
    "    \n",
    "    newtab.iloc[range(0,5),[j]].sum()\n",
    "    tab.iloc[range(0,5),[j]].sum()  \n",
    "    my_series[j] = newtab.iloc[range(0,5),[j]].sum()/tab.iloc[range(0,5),[j]].sum()\n",
    "my_series"
   ]
  },
  {
   "cell_type": "code",
   "execution_count": 9,
   "metadata": {},
   "outputs": [
    {
     "data": {
      "image/png": "[encoded data removed]",
      "text/plain": [
       "<matplotlib.figure.Figure at 0x2b1dba38860>"
      ]
     },
     "metadata": {},
     "output_type": "display_data"
    }
   ],
   "source": [
    "#построим диаграмму для данного массива\n",
    "my_series.plot(kind='bar')\n",
    "plt.show()"
   ]
  },
  {
   "cell_type": "code",
   "execution_count": 10,
   "metadata": {},
   "outputs": [
    {
     "data": {
      "text/plain": [
       "<bound method Series.max of 1 generation    68.310811\n",
       "2 generation    64.591837\n",
       "3 generation    60.615942\n",
       "4 generation    64.594595\n",
       "5 generation    65.854430\n",
       "dtype: float64>"
      ]
     },
     "execution_count": 10,
     "metadata": {},
     "output_type": "execute_result"
    }
   ],
   "source": [
    "my_series.max "
   ]
  },
  {
   "cell_type": "code",
   "execution_count": 11,
   "metadata": {},
   "outputs": [
    {
     "data": {
      "text/plain": [
       "64.79352290976632"
      ]
     },
     "execution_count": 11,
     "metadata": {},
     "output_type": "execute_result"
    }
   ],
   "source": [
    "#вычислим среднее значение\n",
    "my_series.mean()"
   ]
  },
  {
   "cell_type": "markdown",
   "metadata": {},
   "source": [
    "Из полученный данных можно сделать несколько выводов.\n",
    "Из круговых перекрестной табицы и круговых диаграмм для каждого поколения явно видно что болье всего покемонов с base happiness 70, в каждом поколении, покемонов с с другими показателями base happiness гораздо меньше.\n",
    "Так же из столбчатой диаграммы для \"среднего уровня счастья\" видно, что уроень base happiness ,в среднем равен 64.79 b в поколениях не сильно отличается друг от друга, но \"первенство\" занимает первое поколение покемонов, благодаря наибольшему количеству поемонов с base happiness 70."
   ]
  },
  {
   "cell_type": "code",
   "execution_count": null,
   "metadata": {
    "collapsed": true
   },
   "outputs": [],
   "source": []
  }
 ],
 "metadata": {
  "kernelspec": {
   "display_name": "Python 3",
   "language": "python",
   "name": "python3"
  },
  "language_info": {
   "codemirror_mode": {
    "name": "ipython",
    "version": 3
   },
   "file_extension": ".py",
   "mimetype": "text/x-python",
   "name": "python",
   "nbconvert_exporter": "python",
   "pygments_lexer": "ipython3",
   "version": "3.6.1"
  }
 },
 "nbformat": 4,
 "nbformat_minor": 2
}
