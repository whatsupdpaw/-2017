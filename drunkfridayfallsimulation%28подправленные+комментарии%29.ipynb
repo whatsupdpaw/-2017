{
 "cells": [
  {
   "cell_type": "markdown",
   "metadata": {
    "collapsed": true
   },
   "source": [
    "# Вступительное задание в ЛШ2017 DATASCIENCE\n",
    "#   drunkfridayfallsimulation"
   ]
  },
  {
   "cell_type": "code",
   "execution_count": 44,
   "metadata": {
    "collapsed": true
   },
   "outputs": [],
   "source": [
    "import random\n",
    "import numpy as np\n",
    "import matplotlib.pyplot as plt\n",
    "import numpy as np\n",
    "import scipy\n",
    "\n",
    "#для данной задачи создадим функцию которая будет выдавать нам случайные значения из определенного диапозона\n",
    "def nm(a, b):\n",
    "    x = random.randint(a, b)\n",
    "    return x"
   ]
  },
  {
   "cell_type": "code",
   "execution_count": 1,
   "metadata": {
    "collapsed": true
   },
   "outputs": [],
   "source": [
    "#создадим функцию которая имитирует amauntofstep шагов пьяного пятницы, который находится в step шагах от обрыва\n",
    "#если он свалитвается с обрыва функция возвращает 1\n",
    "def cycle(amauntofstep, step):\n",
    "    z = 0\n",
    "    while amauntofstep > 0:\n",
    "        amauntofstep = amauntofstep - 1\n",
    "        if nm(0, 1000000)/1000000 >= 2/3:\n",
    "            step = step + 1\n",
    "        else:\n",
    "            step = step - 1\n",
    "        \n",
    "        if step == 0:\n",
    "            \n",
    "            z = z + 1\n",
    "            break\n",
    "    return  z\n"
   ]
  },
  {
   "cell_type": "code",
   "execution_count": 2,
   "metadata": {
    "collapsed": true
   },
   "outputs": [],
   "source": [
    "#наконец запишем функцию имитирующая множество итераций блужданий пьяного пятницы , в итоге возвращающая нам вероятность падения\n",
    "#почему именно вероятность падения?\n",
    "#потомучто она находится легче аналитически и в дальнейшем будет проще оценить погрешность\n",
    "def drunkfridayfallsimulation(itercation, amauntofstep, step ):\n",
    "    numberofiterations = itercation\n",
    "    fallnumber = 0\n",
    "    while itercation > 0:\n",
    "        itercation = itercation - 1\n",
    "       \n",
    "        l = cycle(amauntofstep, step) \n",
    "       \n",
    "        if l > 0:\n",
    "            fallnumber = fallnumber + 1\n",
    "       \n",
    "    return  fallnumber/numberofiterations\n"
   ]
  },
  {
   "cell_type": "markdown",
   "metadata": {},
   "source": [
    "Параметр itercation помогает настроить точность, возврящаемой функцией, вероятности, чем больше параметр тем больше точность, но и тем больше времени требуется машине для вычислений."
   ]
  },
  {
   "cell_type": "code",
   "execution_count": 47,
   "metadata": {},
   "outputs": [
    {
     "name": "stdout",
     "output_type": "stream",
     "text": [
      "вероятность того что пятница не свалился 0.35240000000000005 \n"
     ]
    }
   ],
   "source": [
    "#продемонстрируем работоспособность, найдем вероятность того что пятница не свалился спустя 5 шагов\n",
    "\n",
    "alive_probability = 1 - drunkfridayfallsimulation(10000, 5, 2 )\n",
    "alive_probability\n",
    "print (\"вероятность того что пятница не свалился %s \" % alive_probability)"
   ]
  },
  {
   "cell_type": "code",
   "execution_count": 48,
   "metadata": {},
   "outputs": [
    {
     "name": "stdout",
     "output_type": "stream",
     "text": [
      "ошибка в измерениях равняется 0.001124691358024732 \n"
     ]
    }
   ],
   "source": [
    "#проверим насколько наш результат отличается от аналитического\n",
    "#т.к фкункция drunkfridayfallsimulation возвращает вероятность падения, то достаточно \n",
    "#сравнить нашу вероятность падения с аналитической, ошибка будет\n",
    "#такая же как и при сравнении вероятностей того, что пятница не свалился\n",
    "p = 2/3\n",
    "analytprobability = p**2 +2*(1-p)*p**3\n",
    "eror = drunkfridayfallsimulation(10000,5, 2 ) - analytprobability\n",
    "print (\"ошибка в измерениях равняется %s \" % eror)"
   ]
  },
  {
   "cell_type": "code",
   "execution_count": 49,
   "metadata": {},
   "outputs": [
    {
     "name": "stdout",
     "output_type": "stream",
     "text": [
      "Введите число шагов N = 5\n"
     ]
    },
    {
     "data": {
      "text/plain": [
       "0.35329999999999995"
      ]
     },
     "execution_count": 49,
     "metadata": {},
     "output_type": "execute_result"
    }
   ],
   "source": [
    "#напишем \"функцию\" принимающую произвольное число шагов N и возвращающую вероятность того что после этих N шагов пьяница жив\n",
    "alive_probability = 1 - drunkfridayfallsimulation(10000, int(input('Введите число шагов N = ')), 2 )\n",
    "alive_probability "
   ]
  },
  {
   "cell_type": "code",
   "execution_count": 50,
   "metadata": {
    "collapsed": true
   },
   "outputs": [],
   "source": [
    "#построим график с помощью нашей функции симуляции пьяного пятницы \n",
    "\n",
    "\n",
    "x =  np.linspace(0, 20, 20)\n",
    "y = scipy.array([(1-drunkfridayfallsimulation(5000, i, 2 )) for i in range(20) ])#z = np.random.random(100)\n",
    "\n",
    "fig = plt.figure()\n",
    "plt.errorbar(x, y, xerr=0, yerr=0.005)\n",
    "plt.title('alive friday probability')\n",
    "plt.grid(True)\n",
    "#plt.show()\n",
    "\n"
   ]
  },
  {
   "cell_type": "code",
   "execution_count": 51,
   "metadata": {},
   "outputs": [
    {
     "data": {
      "image/png": "[encoded data removed]",
      "text/plain": [
       "<matplotlib.figure.Figure at 0x1bab9114eb8>"
      ]
     },
     "metadata": {},
     "output_type": "display_data"
    }
   ],
   "source": [
    "plt.show()"
   ]
  }
 ],
 "metadata": {
  "kernelspec": {
   "display_name": "Python 3",
   "language": "python",
   "name": "python3"
  },
  "language_info": {
   "codemirror_mode": {
    "name": "ipython",
    "version": 3
   },
   "file_extension": ".py",
   "mimetype": "text/x-python",
   "name": "python",
   "nbconvert_exporter": "python",
   "pygments_lexer": "ipython3",
   "version": "3.6.1"
  }
 },
 "nbformat": 4,
 "nbformat_minor": 2
}
